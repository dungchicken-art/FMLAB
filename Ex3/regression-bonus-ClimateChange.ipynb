{
 "cells": [
  {
   "cell_type": "markdown",
   "metadata": {},
   "source": [
    "## Vấn đề\n",
    "\n",
    "Đã có nhiều nghiên cứu ghi nhận rằng nhiệt độ trung bình toàn cầu đang tăng lên trong thế kỷ qua. Hậu quả của việc nhiệt độ toàn cầu tiếp tục tăng sẽ rất nghiêm trọng. Mực nước biển dâng cao và tần suất xuất hiện các hiện tượng thời tiết cực đoan gia tăng sẽ ảnh hưởng đến hàng tỷ người.\n",
    "\n",
    "Trong bài toán này, chúng ta sẽ cố gắng nghiên cứu mối quan hệ giữa nhiệt độ trung bình toàn cầu và một số yếu tố khác.\n"
   ]
  },
  {
   "cell_type": "markdown",
   "metadata": {},
   "source": [
    "##  Dữ liệu\n",
    "Link dữ liệu: https://courses.edx.org/asset-v1:MITx+15.071x_2a+2T2015+type@asset+block/climate_change.csv\n",
    "Tệp climate_change.csv chứa dữ liệu khí hậu từ tháng 5 năm 1983 đến tháng 12 năm 2008. Các biến khả dụng bao gồm:\n",
    "  \n",
    "*   Year: Năm theo dõi.\n",
    "* Month: Tháng theo dõi.\n",
    "* Temp: sự khác biệt về độ C giữa nhiệt độ trung bình toàn cầu trong thời kỳ đó và một giá trị tham chiếu. Dữ liệu này đến từ Đơn vị Nghiên cứu Khí hậu tại Đại học East Anglia.\n",
    "* CO2, N2O, CH4, CFC.11, CFC.12:nồng độ trong khí quyển của carbon dioxide (CO2), nitrous oxide (N2O), methane (CH4), trichlorofluoromethane (CCl3F; thường được gọi là CFC-11) và dichlorodifluoromethane (CCl2F2; thường được gọi là CFC-12). Dữ liệu này đến từ Bộ phận Giám sát Toàn cầu ESRL / NOAA.\n",
    "* CO2, N2O và CH4 được biểu thị bằng ppmv (phần triệu theo thể tích - tức là 397 ppmv CO2 có nghĩa là CO2 chiếm 397 phần triệu tổng thể tích của khí quyển)\n",
    "* CFC.11 và CFC.12 được biểu thị bằng ppbv (phần tỷ khối lượng). \n",
    "* Aerosols: độ sâu quang học trung bình của Aerosols ở tầng bình lưu ở bước sóng 550 nm. Biến số này có liên quan đến núi lửa, vì núi lửa phun trào dẫn đến các hạt mới được thêm vào khí quyển, ảnh hưởng đến lượng năng lượng của mặt trời được phản xạ trở lại không gian. Dữ liệu này là từ Viện Nghiên cứu Không gian Godard tại NASA.\n",
    "* TSI: tổng bức xạ mặt trời (TSI) tính bằng W / m2 (tỷ lệ năng lượng mặt trời được tích tụ trên một đơn vị diện tích). Do các vết đen và các hiện tượng mặt trời khác, lượng năng lượng do mặt trời tỏa ra thay đổi đáng kể theo thời gian. Dữ liệu này lấy từ trang web của dự án SOLARIS-HEPPA.\n",
    "* MEI: chỉ số El Nino Southern Oscillation (MEI) đa biến, một thước đo sức mạnh của El Nino / La Nina-Southern Oscillation (một hiệu ứng thời tiết ở Thái Bình Dương ảnh hưởng đến nhiệt độ toàn cầu). Dữ liệu này đến từ Ban Khoa học Vật lý ESRL / NOAA."
   ]
  },
  {
   "cell_type": "code",
   "execution_count": 189,
   "metadata": {},
   "outputs": [],
   "source": [
    "import pandas as pd\n",
    "df = pd.read_csv('climate_change.csv')"
   ]
  },
  {
   "cell_type": "code",
   "execution_count": 190,
   "metadata": {},
   "outputs": [
    {
     "data": {
      "text/html": [
       "<div>\n",
       "<style scoped>\n",
       "    .dataframe tbody tr th:only-of-type {\n",
       "        vertical-align: middle;\n",
       "    }\n",
       "\n",
       "    .dataframe tbody tr th {\n",
       "        vertical-align: top;\n",
       "    }\n",
       "\n",
       "    .dataframe thead th {\n",
       "        text-align: right;\n",
       "    }\n",
       "</style>\n",
       "<table border=\"1\" class=\"dataframe\">\n",
       "  <thead>\n",
       "    <tr style=\"text-align: right;\">\n",
       "      <th></th>\n",
       "      <th>Year</th>\n",
       "      <th>Month</th>\n",
       "      <th>MEI</th>\n",
       "      <th>CO2</th>\n",
       "      <th>CH4</th>\n",
       "      <th>N2O</th>\n",
       "      <th>CFC-11</th>\n",
       "      <th>CFC-12</th>\n",
       "      <th>TSI</th>\n",
       "      <th>Aerosols</th>\n",
       "      <th>Temp</th>\n",
       "    </tr>\n",
       "  </thead>\n",
       "  <tbody>\n",
       "    <tr>\n",
       "      <th>303</th>\n",
       "      <td>2008</td>\n",
       "      <td>8</td>\n",
       "      <td>-0.266</td>\n",
       "      <td>384.15</td>\n",
       "      <td>1779.88</td>\n",
       "      <td>321.405</td>\n",
       "      <td>244.200</td>\n",
       "      <td>535.072</td>\n",
       "      <td>1365.6570</td>\n",
       "      <td>0.0036</td>\n",
       "      <td>0.407</td>\n",
       "    </tr>\n",
       "    <tr>\n",
       "      <th>304</th>\n",
       "      <td>2008</td>\n",
       "      <td>9</td>\n",
       "      <td>-0.643</td>\n",
       "      <td>383.09</td>\n",
       "      <td>1795.08</td>\n",
       "      <td>321.529</td>\n",
       "      <td>244.083</td>\n",
       "      <td>535.048</td>\n",
       "      <td>1365.6647</td>\n",
       "      <td>0.0043</td>\n",
       "      <td>0.378</td>\n",
       "    </tr>\n",
       "    <tr>\n",
       "      <th>305</th>\n",
       "      <td>2008</td>\n",
       "      <td>10</td>\n",
       "      <td>-0.780</td>\n",
       "      <td>382.99</td>\n",
       "      <td>1814.18</td>\n",
       "      <td>321.796</td>\n",
       "      <td>244.080</td>\n",
       "      <td>534.927</td>\n",
       "      <td>1365.6759</td>\n",
       "      <td>0.0046</td>\n",
       "      <td>0.440</td>\n",
       "    </tr>\n",
       "    <tr>\n",
       "      <th>306</th>\n",
       "      <td>2008</td>\n",
       "      <td>11</td>\n",
       "      <td>-0.621</td>\n",
       "      <td>384.13</td>\n",
       "      <td>1812.37</td>\n",
       "      <td>322.013</td>\n",
       "      <td>244.225</td>\n",
       "      <td>534.906</td>\n",
       "      <td>1365.7065</td>\n",
       "      <td>0.0048</td>\n",
       "      <td>0.394</td>\n",
       "    </tr>\n",
       "    <tr>\n",
       "      <th>307</th>\n",
       "      <td>2008</td>\n",
       "      <td>12</td>\n",
       "      <td>-0.666</td>\n",
       "      <td>385.56</td>\n",
       "      <td>1812.88</td>\n",
       "      <td>322.182</td>\n",
       "      <td>244.204</td>\n",
       "      <td>535.005</td>\n",
       "      <td>1365.6926</td>\n",
       "      <td>0.0046</td>\n",
       "      <td>0.330</td>\n",
       "    </tr>\n",
       "  </tbody>\n",
       "</table>\n",
       "</div>"
      ],
      "text/plain": [
       "     Year  Month    MEI     CO2      CH4      N2O   CFC-11   CFC-12  \\\n",
       "303  2008      8 -0.266  384.15  1779.88  321.405  244.200  535.072   \n",
       "304  2008      9 -0.643  383.09  1795.08  321.529  244.083  535.048   \n",
       "305  2008     10 -0.780  382.99  1814.18  321.796  244.080  534.927   \n",
       "306  2008     11 -0.621  384.13  1812.37  322.013  244.225  534.906   \n",
       "307  2008     12 -0.666  385.56  1812.88  322.182  244.204  535.005   \n",
       "\n",
       "           TSI  Aerosols   Temp  \n",
       "303  1365.6570    0.0036  0.407  \n",
       "304  1365.6647    0.0043  0.378  \n",
       "305  1365.6759    0.0046  0.440  \n",
       "306  1365.7065    0.0048  0.394  \n",
       "307  1365.6926    0.0046  0.330  "
      ]
     },
     "execution_count": 190,
     "metadata": {},
     "output_type": "execute_result"
    }
   ],
   "source": [
    "#Xem 5 dòng dữ liệu cuối cùng\n",
    "df.tail()"
   ]
  },
  {
   "cell_type": "code",
   "execution_count": 191,
   "metadata": {},
   "outputs": [
    {
     "data": {
      "text/html": [
       "<div>\n",
       "<style scoped>\n",
       "    .dataframe tbody tr th:only-of-type {\n",
       "        vertical-align: middle;\n",
       "    }\n",
       "\n",
       "    .dataframe tbody tr th {\n",
       "        vertical-align: top;\n",
       "    }\n",
       "\n",
       "    .dataframe thead th {\n",
       "        text-align: right;\n",
       "    }\n",
       "</style>\n",
       "<table border=\"1\" class=\"dataframe\">\n",
       "  <thead>\n",
       "    <tr style=\"text-align: right;\">\n",
       "      <th></th>\n",
       "      <th>Year</th>\n",
       "      <th>Month</th>\n",
       "      <th>MEI</th>\n",
       "      <th>CO2</th>\n",
       "      <th>CH4</th>\n",
       "      <th>N2O</th>\n",
       "      <th>CFC-11</th>\n",
       "      <th>CFC-12</th>\n",
       "      <th>TSI</th>\n",
       "      <th>Aerosols</th>\n",
       "      <th>Temp</th>\n",
       "    </tr>\n",
       "  </thead>\n",
       "  <tbody>\n",
       "    <tr>\n",
       "      <th>count</th>\n",
       "      <td>308.000000</td>\n",
       "      <td>308.000000</td>\n",
       "      <td>308.000000</td>\n",
       "      <td>308.000000</td>\n",
       "      <td>308.000000</td>\n",
       "      <td>308.000000</td>\n",
       "      <td>308.000000</td>\n",
       "      <td>308.000000</td>\n",
       "      <td>308.000000</td>\n",
       "      <td>308.000000</td>\n",
       "      <td>308.000000</td>\n",
       "    </tr>\n",
       "    <tr>\n",
       "      <th>mean</th>\n",
       "      <td>1995.662338</td>\n",
       "      <td>6.551948</td>\n",
       "      <td>0.275555</td>\n",
       "      <td>363.226753</td>\n",
       "      <td>1749.824513</td>\n",
       "      <td>312.391834</td>\n",
       "      <td>251.973068</td>\n",
       "      <td>497.524782</td>\n",
       "      <td>1366.070759</td>\n",
       "      <td>0.016657</td>\n",
       "      <td>0.256776</td>\n",
       "    </tr>\n",
       "    <tr>\n",
       "      <th>std</th>\n",
       "      <td>7.423197</td>\n",
       "      <td>3.447214</td>\n",
       "      <td>0.937918</td>\n",
       "      <td>12.647125</td>\n",
       "      <td>46.051678</td>\n",
       "      <td>5.225131</td>\n",
       "      <td>20.231783</td>\n",
       "      <td>57.826899</td>\n",
       "      <td>0.399610</td>\n",
       "      <td>0.029050</td>\n",
       "      <td>0.179090</td>\n",
       "    </tr>\n",
       "    <tr>\n",
       "      <th>min</th>\n",
       "      <td>1983.000000</td>\n",
       "      <td>1.000000</td>\n",
       "      <td>-1.635000</td>\n",
       "      <td>340.170000</td>\n",
       "      <td>1629.890000</td>\n",
       "      <td>303.677000</td>\n",
       "      <td>191.324000</td>\n",
       "      <td>350.113000</td>\n",
       "      <td>1365.426100</td>\n",
       "      <td>0.001600</td>\n",
       "      <td>-0.282000</td>\n",
       "    </tr>\n",
       "    <tr>\n",
       "      <th>25%</th>\n",
       "      <td>1989.000000</td>\n",
       "      <td>4.000000</td>\n",
       "      <td>-0.398750</td>\n",
       "      <td>353.020000</td>\n",
       "      <td>1722.182500</td>\n",
       "      <td>308.111500</td>\n",
       "      <td>246.295500</td>\n",
       "      <td>472.410750</td>\n",
       "      <td>1365.717050</td>\n",
       "      <td>0.002800</td>\n",
       "      <td>0.121750</td>\n",
       "    </tr>\n",
       "    <tr>\n",
       "      <th>50%</th>\n",
       "      <td>1996.000000</td>\n",
       "      <td>7.000000</td>\n",
       "      <td>0.237500</td>\n",
       "      <td>361.735000</td>\n",
       "      <td>1764.040000</td>\n",
       "      <td>311.507000</td>\n",
       "      <td>258.344000</td>\n",
       "      <td>528.356000</td>\n",
       "      <td>1365.980900</td>\n",
       "      <td>0.005750</td>\n",
       "      <td>0.248000</td>\n",
       "    </tr>\n",
       "    <tr>\n",
       "      <th>75%</th>\n",
       "      <td>2002.000000</td>\n",
       "      <td>10.000000</td>\n",
       "      <td>0.830500</td>\n",
       "      <td>373.455000</td>\n",
       "      <td>1786.885000</td>\n",
       "      <td>316.979000</td>\n",
       "      <td>267.031000</td>\n",
       "      <td>540.524250</td>\n",
       "      <td>1366.363250</td>\n",
       "      <td>0.012600</td>\n",
       "      <td>0.407250</td>\n",
       "    </tr>\n",
       "    <tr>\n",
       "      <th>max</th>\n",
       "      <td>2008.000000</td>\n",
       "      <td>12.000000</td>\n",
       "      <td>3.001000</td>\n",
       "      <td>388.500000</td>\n",
       "      <td>1814.180000</td>\n",
       "      <td>322.182000</td>\n",
       "      <td>271.494000</td>\n",
       "      <td>543.813000</td>\n",
       "      <td>1367.316200</td>\n",
       "      <td>0.149400</td>\n",
       "      <td>0.739000</td>\n",
       "    </tr>\n",
       "  </tbody>\n",
       "</table>\n",
       "</div>"
      ],
      "text/plain": [
       "              Year       Month         MEI         CO2          CH4  \\\n",
       "count   308.000000  308.000000  308.000000  308.000000   308.000000   \n",
       "mean   1995.662338    6.551948    0.275555  363.226753  1749.824513   \n",
       "std       7.423197    3.447214    0.937918   12.647125    46.051678   \n",
       "min    1983.000000    1.000000   -1.635000  340.170000  1629.890000   \n",
       "25%    1989.000000    4.000000   -0.398750  353.020000  1722.182500   \n",
       "50%    1996.000000    7.000000    0.237500  361.735000  1764.040000   \n",
       "75%    2002.000000   10.000000    0.830500  373.455000  1786.885000   \n",
       "max    2008.000000   12.000000    3.001000  388.500000  1814.180000   \n",
       "\n",
       "              N2O      CFC-11      CFC-12          TSI    Aerosols        Temp  \n",
       "count  308.000000  308.000000  308.000000   308.000000  308.000000  308.000000  \n",
       "mean   312.391834  251.973068  497.524782  1366.070759    0.016657    0.256776  \n",
       "std      5.225131   20.231783   57.826899     0.399610    0.029050    0.179090  \n",
       "min    303.677000  191.324000  350.113000  1365.426100    0.001600   -0.282000  \n",
       "25%    308.111500  246.295500  472.410750  1365.717050    0.002800    0.121750  \n",
       "50%    311.507000  258.344000  528.356000  1365.980900    0.005750    0.248000  \n",
       "75%    316.979000  267.031000  540.524250  1366.363250    0.012600    0.407250  \n",
       "max    322.182000  271.494000  543.813000  1367.316200    0.149400    0.739000  "
      ]
     },
     "execution_count": 191,
     "metadata": {},
     "output_type": "execute_result"
    }
   ],
   "source": [
    "#Xem các dữ liệu thống kê\n",
    "df.describe()"
   ]
  },
  {
   "cell_type": "markdown",
   "metadata": {},
   "source": [
    "Xóa các dòng dữ liệu bị thiếu tham số"
   ]
  },
  {
   "cell_type": "code",
   "execution_count": 192,
   "metadata": {},
   "outputs": [
    {
     "data": {
      "text/html": [
       "<div>\n",
       "<style scoped>\n",
       "    .dataframe tbody tr th:only-of-type {\n",
       "        vertical-align: middle;\n",
       "    }\n",
       "\n",
       "    .dataframe tbody tr th {\n",
       "        vertical-align: top;\n",
       "    }\n",
       "\n",
       "    .dataframe thead th {\n",
       "        text-align: right;\n",
       "    }\n",
       "</style>\n",
       "<table border=\"1\" class=\"dataframe\">\n",
       "  <thead>\n",
       "    <tr style=\"text-align: right;\">\n",
       "      <th></th>\n",
       "      <th>Year</th>\n",
       "      <th>Month</th>\n",
       "      <th>MEI</th>\n",
       "      <th>CO2</th>\n",
       "      <th>CH4</th>\n",
       "      <th>N2O</th>\n",
       "      <th>CFC-11</th>\n",
       "      <th>CFC-12</th>\n",
       "      <th>TSI</th>\n",
       "      <th>Aerosols</th>\n",
       "      <th>Temp</th>\n",
       "    </tr>\n",
       "  </thead>\n",
       "  <tbody>\n",
       "    <tr>\n",
       "      <th>count</th>\n",
       "      <td>308.000000</td>\n",
       "      <td>308.000000</td>\n",
       "      <td>308.000000</td>\n",
       "      <td>308.000000</td>\n",
       "      <td>308.000000</td>\n",
       "      <td>308.000000</td>\n",
       "      <td>308.000000</td>\n",
       "      <td>308.000000</td>\n",
       "      <td>308.000000</td>\n",
       "      <td>308.000000</td>\n",
       "      <td>308.000000</td>\n",
       "    </tr>\n",
       "    <tr>\n",
       "      <th>mean</th>\n",
       "      <td>1995.662338</td>\n",
       "      <td>6.551948</td>\n",
       "      <td>0.275555</td>\n",
       "      <td>363.226753</td>\n",
       "      <td>1749.824513</td>\n",
       "      <td>312.391834</td>\n",
       "      <td>251.973068</td>\n",
       "      <td>497.524782</td>\n",
       "      <td>1366.070759</td>\n",
       "      <td>0.016657</td>\n",
       "      <td>0.256776</td>\n",
       "    </tr>\n",
       "    <tr>\n",
       "      <th>std</th>\n",
       "      <td>7.423197</td>\n",
       "      <td>3.447214</td>\n",
       "      <td>0.937918</td>\n",
       "      <td>12.647125</td>\n",
       "      <td>46.051678</td>\n",
       "      <td>5.225131</td>\n",
       "      <td>20.231783</td>\n",
       "      <td>57.826899</td>\n",
       "      <td>0.399610</td>\n",
       "      <td>0.029050</td>\n",
       "      <td>0.179090</td>\n",
       "    </tr>\n",
       "    <tr>\n",
       "      <th>min</th>\n",
       "      <td>1983.000000</td>\n",
       "      <td>1.000000</td>\n",
       "      <td>-1.635000</td>\n",
       "      <td>340.170000</td>\n",
       "      <td>1629.890000</td>\n",
       "      <td>303.677000</td>\n",
       "      <td>191.324000</td>\n",
       "      <td>350.113000</td>\n",
       "      <td>1365.426100</td>\n",
       "      <td>0.001600</td>\n",
       "      <td>-0.282000</td>\n",
       "    </tr>\n",
       "    <tr>\n",
       "      <th>25%</th>\n",
       "      <td>1989.000000</td>\n",
       "      <td>4.000000</td>\n",
       "      <td>-0.398750</td>\n",
       "      <td>353.020000</td>\n",
       "      <td>1722.182500</td>\n",
       "      <td>308.111500</td>\n",
       "      <td>246.295500</td>\n",
       "      <td>472.410750</td>\n",
       "      <td>1365.717050</td>\n",
       "      <td>0.002800</td>\n",
       "      <td>0.121750</td>\n",
       "    </tr>\n",
       "    <tr>\n",
       "      <th>50%</th>\n",
       "      <td>1996.000000</td>\n",
       "      <td>7.000000</td>\n",
       "      <td>0.237500</td>\n",
       "      <td>361.735000</td>\n",
       "      <td>1764.040000</td>\n",
       "      <td>311.507000</td>\n",
       "      <td>258.344000</td>\n",
       "      <td>528.356000</td>\n",
       "      <td>1365.980900</td>\n",
       "      <td>0.005750</td>\n",
       "      <td>0.248000</td>\n",
       "    </tr>\n",
       "    <tr>\n",
       "      <th>75%</th>\n",
       "      <td>2002.000000</td>\n",
       "      <td>10.000000</td>\n",
       "      <td>0.830500</td>\n",
       "      <td>373.455000</td>\n",
       "      <td>1786.885000</td>\n",
       "      <td>316.979000</td>\n",
       "      <td>267.031000</td>\n",
       "      <td>540.524250</td>\n",
       "      <td>1366.363250</td>\n",
       "      <td>0.012600</td>\n",
       "      <td>0.407250</td>\n",
       "    </tr>\n",
       "    <tr>\n",
       "      <th>max</th>\n",
       "      <td>2008.000000</td>\n",
       "      <td>12.000000</td>\n",
       "      <td>3.001000</td>\n",
       "      <td>388.500000</td>\n",
       "      <td>1814.180000</td>\n",
       "      <td>322.182000</td>\n",
       "      <td>271.494000</td>\n",
       "      <td>543.813000</td>\n",
       "      <td>1367.316200</td>\n",
       "      <td>0.149400</td>\n",
       "      <td>0.739000</td>\n",
       "    </tr>\n",
       "  </tbody>\n",
       "</table>\n",
       "</div>"
      ],
      "text/plain": [
       "              Year       Month         MEI         CO2          CH4  \\\n",
       "count   308.000000  308.000000  308.000000  308.000000   308.000000   \n",
       "mean   1995.662338    6.551948    0.275555  363.226753  1749.824513   \n",
       "std       7.423197    3.447214    0.937918   12.647125    46.051678   \n",
       "min    1983.000000    1.000000   -1.635000  340.170000  1629.890000   \n",
       "25%    1989.000000    4.000000   -0.398750  353.020000  1722.182500   \n",
       "50%    1996.000000    7.000000    0.237500  361.735000  1764.040000   \n",
       "75%    2002.000000   10.000000    0.830500  373.455000  1786.885000   \n",
       "max    2008.000000   12.000000    3.001000  388.500000  1814.180000   \n",
       "\n",
       "              N2O      CFC-11      CFC-12          TSI    Aerosols        Temp  \n",
       "count  308.000000  308.000000  308.000000   308.000000  308.000000  308.000000  \n",
       "mean   312.391834  251.973068  497.524782  1366.070759    0.016657    0.256776  \n",
       "std      5.225131   20.231783   57.826899     0.399610    0.029050    0.179090  \n",
       "min    303.677000  191.324000  350.113000  1365.426100    0.001600   -0.282000  \n",
       "25%    308.111500  246.295500  472.410750  1365.717050    0.002800    0.121750  \n",
       "50%    311.507000  258.344000  528.356000  1365.980900    0.005750    0.248000  \n",
       "75%    316.979000  267.031000  540.524250  1366.363250    0.012600    0.407250  \n",
       "max    322.182000  271.494000  543.813000  1367.316200    0.149400    0.739000  "
      ]
     },
     "execution_count": 192,
     "metadata": {},
     "output_type": "execute_result"
    }
   ],
   "source": [
    "df = df.dropna()\n",
    "df.describe()"
   ]
  },
  {
   "cell_type": "code",
   "execution_count": 193,
   "metadata": {},
   "outputs": [
    {
     "name": "stdout",
     "output_type": "stream",
     "text": [
      "<class 'pandas.core.frame.DataFrame'>\n",
      "<class 'numpy.ndarray'>\n",
      "(308, 11)\n"
     ]
    }
   ],
   "source": [
    "print(type(df))\n",
    "# type(df.values)\n",
    "print(type(df.values))\n",
    "print(df.values.shape)"
   ]
  },
  {
   "cell_type": "markdown",
   "metadata": {},
   "source": [
    "### Xem các năm"
   ]
  },
  {
   "cell_type": "code",
   "execution_count": 194,
   "metadata": {},
   "outputs": [
    {
     "data": {
      "text/plain": [
       "array([1983, 1983, 1983, 1983, 1983, 1983, 1983, 1983, 1984, 1984, 1984,\n",
       "       1984, 1984, 1984, 1984, 1984, 1984, 1984, 1984, 1984, 1985, 1985,\n",
       "       1985, 1985, 1985, 1985, 1985, 1985, 1985, 1985, 1985, 1985, 1986,\n",
       "       1986, 1986, 1986, 1986, 1986, 1986, 1986, 1986, 1986, 1986, 1986,\n",
       "       1987, 1987, 1987, 1987, 1987, 1987, 1987, 1987, 1987, 1987, 1987,\n",
       "       1987, 1988, 1988, 1988, 1988, 1988, 1988, 1988, 1988, 1988, 1988,\n",
       "       1988, 1988, 1989, 1989, 1989, 1989, 1989, 1989, 1989, 1989, 1989,\n",
       "       1989, 1989, 1989, 1990, 1990, 1990, 1990, 1990, 1990, 1990, 1990,\n",
       "       1990, 1990, 1990, 1990, 1991, 1991, 1991, 1991, 1991, 1991, 1991,\n",
       "       1991, 1991, 1991, 1991, 1991, 1992, 1992, 1992, 1992, 1992, 1992,\n",
       "       1992, 1992, 1992, 1992, 1992, 1992, 1993, 1993, 1993, 1993, 1993,\n",
       "       1993, 1993, 1993, 1993, 1993, 1993, 1993, 1994, 1994, 1994, 1994,\n",
       "       1994, 1994, 1994, 1994, 1994, 1994, 1994, 1994, 1995, 1995, 1995,\n",
       "       1995, 1995, 1995, 1995, 1995, 1995, 1995, 1995, 1995, 1996, 1996,\n",
       "       1996, 1996, 1996, 1996, 1996, 1996, 1996, 1996, 1996, 1996, 1997,\n",
       "       1997, 1997, 1997, 1997, 1997, 1997, 1997, 1997, 1997, 1997, 1997,\n",
       "       1998, 1998, 1998, 1998, 1998, 1998, 1998, 1998, 1998, 1998, 1998,\n",
       "       1998, 1999, 1999, 1999, 1999, 1999, 1999, 1999, 1999, 1999, 1999,\n",
       "       1999, 1999, 2000, 2000, 2000, 2000, 2000, 2000, 2000, 2000, 2000,\n",
       "       2000, 2000, 2000, 2001, 2001, 2001, 2001, 2001, 2001, 2001, 2001,\n",
       "       2001, 2001, 2001, 2001, 2002, 2002, 2002, 2002, 2002, 2002, 2002,\n",
       "       2002, 2002, 2002, 2002, 2002, 2003, 2003, 2003, 2003, 2003, 2003,\n",
       "       2003, 2003, 2003, 2003, 2003, 2003, 2004, 2004, 2004, 2004, 2004,\n",
       "       2004, 2004, 2004, 2004, 2004, 2004, 2004, 2005, 2005, 2005, 2005,\n",
       "       2005, 2005, 2005, 2005, 2005, 2005, 2005, 2005, 2006, 2006, 2006,\n",
       "       2006, 2006, 2006, 2006, 2006, 2006, 2006, 2006, 2006, 2007, 2007,\n",
       "       2007, 2007, 2007, 2007, 2007, 2007, 2007, 2007, 2007, 2007, 2008,\n",
       "       2008, 2008, 2008, 2008, 2008, 2008, 2008, 2008, 2008, 2008, 2008],\n",
       "      dtype=int64)"
      ]
     },
     "execution_count": 194,
     "metadata": {},
     "output_type": "execute_result"
    }
   ],
   "source": [
    "a = df['Year'].values\n",
    "a"
   ]
  },
  {
   "cell_type": "markdown",
   "metadata": {},
   "source": [
    "### Chia tập train, test"
   ]
  },
  {
   "cell_type": "code",
   "execution_count": 195,
   "metadata": {},
   "outputs": [],
   "source": [
    "df_train = df[df['Year'] <= 2006]\n",
    "df_test = df[df['Year'] > 2006]"
   ]
  },
  {
   "cell_type": "code",
   "execution_count": 196,
   "metadata": {},
   "outputs": [
    {
     "data": {
      "text/html": [
       "<div>\n",
       "<style scoped>\n",
       "    .dataframe tbody tr th:only-of-type {\n",
       "        vertical-align: middle;\n",
       "    }\n",
       "\n",
       "    .dataframe tbody tr th {\n",
       "        vertical-align: top;\n",
       "    }\n",
       "\n",
       "    .dataframe thead th {\n",
       "        text-align: right;\n",
       "    }\n",
       "</style>\n",
       "<table border=\"1\" class=\"dataframe\">\n",
       "  <thead>\n",
       "    <tr style=\"text-align: right;\">\n",
       "      <th></th>\n",
       "      <th>Year</th>\n",
       "      <th>Month</th>\n",
       "      <th>MEI</th>\n",
       "      <th>CO2</th>\n",
       "      <th>CH4</th>\n",
       "      <th>N2O</th>\n",
       "      <th>CFC-11</th>\n",
       "      <th>CFC-12</th>\n",
       "      <th>TSI</th>\n",
       "      <th>Aerosols</th>\n",
       "      <th>Temp</th>\n",
       "    </tr>\n",
       "  </thead>\n",
       "  <tbody>\n",
       "    <tr>\n",
       "      <th>279</th>\n",
       "      <td>2006</td>\n",
       "      <td>8</td>\n",
       "      <td>0.759</td>\n",
       "      <td>380.45</td>\n",
       "      <td>1762.66</td>\n",
       "      <td>319.930</td>\n",
       "      <td>248.981</td>\n",
       "      <td>539.682</td>\n",
       "      <td>1365.7067</td>\n",
       "      <td>0.0041</td>\n",
       "      <td>0.482</td>\n",
       "    </tr>\n",
       "    <tr>\n",
       "      <th>280</th>\n",
       "      <td>2006</td>\n",
       "      <td>9</td>\n",
       "      <td>0.793</td>\n",
       "      <td>378.92</td>\n",
       "      <td>1776.04</td>\n",
       "      <td>320.010</td>\n",
       "      <td>248.775</td>\n",
       "      <td>539.566</td>\n",
       "      <td>1365.8419</td>\n",
       "      <td>0.0043</td>\n",
       "      <td>0.425</td>\n",
       "    </tr>\n",
       "    <tr>\n",
       "      <th>281</th>\n",
       "      <td>2006</td>\n",
       "      <td>10</td>\n",
       "      <td>0.892</td>\n",
       "      <td>379.16</td>\n",
       "      <td>1789.02</td>\n",
       "      <td>320.125</td>\n",
       "      <td>248.666</td>\n",
       "      <td>539.488</td>\n",
       "      <td>1365.8270</td>\n",
       "      <td>0.0044</td>\n",
       "      <td>0.472</td>\n",
       "    </tr>\n",
       "    <tr>\n",
       "      <th>282</th>\n",
       "      <td>2006</td>\n",
       "      <td>11</td>\n",
       "      <td>1.292</td>\n",
       "      <td>380.18</td>\n",
       "      <td>1791.91</td>\n",
       "      <td>320.321</td>\n",
       "      <td>248.605</td>\n",
       "      <td>539.500</td>\n",
       "      <td>1365.7039</td>\n",
       "      <td>0.0049</td>\n",
       "      <td>0.440</td>\n",
       "    </tr>\n",
       "    <tr>\n",
       "      <th>283</th>\n",
       "      <td>2006</td>\n",
       "      <td>12</td>\n",
       "      <td>0.951</td>\n",
       "      <td>381.79</td>\n",
       "      <td>1795.04</td>\n",
       "      <td>320.451</td>\n",
       "      <td>248.480</td>\n",
       "      <td>539.377</td>\n",
       "      <td>1365.7087</td>\n",
       "      <td>0.0054</td>\n",
       "      <td>0.518</td>\n",
       "    </tr>\n",
       "  </tbody>\n",
       "</table>\n",
       "</div>"
      ],
      "text/plain": [
       "     Year  Month    MEI     CO2      CH4      N2O   CFC-11   CFC-12  \\\n",
       "279  2006      8  0.759  380.45  1762.66  319.930  248.981  539.682   \n",
       "280  2006      9  0.793  378.92  1776.04  320.010  248.775  539.566   \n",
       "281  2006     10  0.892  379.16  1789.02  320.125  248.666  539.488   \n",
       "282  2006     11  1.292  380.18  1791.91  320.321  248.605  539.500   \n",
       "283  2006     12  0.951  381.79  1795.04  320.451  248.480  539.377   \n",
       "\n",
       "           TSI  Aerosols   Temp  \n",
       "279  1365.7067    0.0041  0.482  \n",
       "280  1365.8419    0.0043  0.425  \n",
       "281  1365.8270    0.0044  0.472  \n",
       "282  1365.7039    0.0049  0.440  \n",
       "283  1365.7087    0.0054  0.518  "
      ]
     },
     "execution_count": 196,
     "metadata": {},
     "output_type": "execute_result"
    }
   ],
   "source": [
    "df_train.tail()"
   ]
  },
  {
   "cell_type": "code",
   "execution_count": 197,
   "metadata": {},
   "outputs": [
    {
     "data": {
      "text/plain": [
       "Index(['MEI', 'CO2', 'CH4', 'N2O', 'CFC-11', 'CFC-12', 'TSI', 'Aerosols'], dtype='object')"
      ]
     },
     "execution_count": 197,
     "metadata": {},
     "output_type": "execute_result"
    }
   ],
   "source": [
    "feature_names = df.columns.drop(['Year', 'Month', 'Temp'])\n",
    "feature_names"
   ]
  },
  {
   "cell_type": "code",
   "execution_count": 198,
   "metadata": {},
   "outputs": [],
   "source": [
    "X_train = df_train[feature_names]\n",
    "y_train = df_train['Temp']\n",
    "\n",
    "X_test = df_test[feature_names]\n",
    "y_test = df_test.Temp"
   ]
  },
  {
   "cell_type": "code",
   "execution_count": 199,
   "metadata": {},
   "outputs": [
    {
     "data": {
      "text/html": [
       "<div>\n",
       "<style scoped>\n",
       "    .dataframe tbody tr th:only-of-type {\n",
       "        vertical-align: middle;\n",
       "    }\n",
       "\n",
       "    .dataframe tbody tr th {\n",
       "        vertical-align: top;\n",
       "    }\n",
       "\n",
       "    .dataframe thead th {\n",
       "        text-align: right;\n",
       "    }\n",
       "</style>\n",
       "<table border=\"1\" class=\"dataframe\">\n",
       "  <thead>\n",
       "    <tr style=\"text-align: right;\">\n",
       "      <th></th>\n",
       "      <th>MEI</th>\n",
       "      <th>CO2</th>\n",
       "      <th>CH4</th>\n",
       "      <th>N2O</th>\n",
       "      <th>CFC-11</th>\n",
       "      <th>CFC-12</th>\n",
       "      <th>TSI</th>\n",
       "      <th>Aerosols</th>\n",
       "    </tr>\n",
       "  </thead>\n",
       "  <tbody>\n",
       "    <tr>\n",
       "      <th>0</th>\n",
       "      <td>2.556</td>\n",
       "      <td>345.96</td>\n",
       "      <td>1638.59</td>\n",
       "      <td>303.677</td>\n",
       "      <td>191.324</td>\n",
       "      <td>350.113</td>\n",
       "      <td>1366.1024</td>\n",
       "      <td>0.0863</td>\n",
       "    </tr>\n",
       "    <tr>\n",
       "      <th>1</th>\n",
       "      <td>2.167</td>\n",
       "      <td>345.52</td>\n",
       "      <td>1633.71</td>\n",
       "      <td>303.746</td>\n",
       "      <td>192.057</td>\n",
       "      <td>351.848</td>\n",
       "      <td>1366.1208</td>\n",
       "      <td>0.0794</td>\n",
       "    </tr>\n",
       "    <tr>\n",
       "      <th>2</th>\n",
       "      <td>1.741</td>\n",
       "      <td>344.15</td>\n",
       "      <td>1633.22</td>\n",
       "      <td>303.795</td>\n",
       "      <td>192.818</td>\n",
       "      <td>353.725</td>\n",
       "      <td>1366.2850</td>\n",
       "      <td>0.0731</td>\n",
       "    </tr>\n",
       "    <tr>\n",
       "      <th>3</th>\n",
       "      <td>1.130</td>\n",
       "      <td>342.25</td>\n",
       "      <td>1631.35</td>\n",
       "      <td>303.839</td>\n",
       "      <td>193.602</td>\n",
       "      <td>355.633</td>\n",
       "      <td>1366.4202</td>\n",
       "      <td>0.0673</td>\n",
       "    </tr>\n",
       "    <tr>\n",
       "      <th>4</th>\n",
       "      <td>0.428</td>\n",
       "      <td>340.17</td>\n",
       "      <td>1648.40</td>\n",
       "      <td>303.901</td>\n",
       "      <td>194.392</td>\n",
       "      <td>357.465</td>\n",
       "      <td>1366.2335</td>\n",
       "      <td>0.0619</td>\n",
       "    </tr>\n",
       "  </tbody>\n",
       "</table>\n",
       "</div>"
      ],
      "text/plain": [
       "     MEI     CO2      CH4      N2O   CFC-11   CFC-12        TSI  Aerosols\n",
       "0  2.556  345.96  1638.59  303.677  191.324  350.113  1366.1024    0.0863\n",
       "1  2.167  345.52  1633.71  303.746  192.057  351.848  1366.1208    0.0794\n",
       "2  1.741  344.15  1633.22  303.795  192.818  353.725  1366.2850    0.0731\n",
       "3  1.130  342.25  1631.35  303.839  193.602  355.633  1366.4202    0.0673\n",
       "4  0.428  340.17  1648.40  303.901  194.392  357.465  1366.2335    0.0619"
      ]
     },
     "execution_count": 199,
     "metadata": {},
     "output_type": "execute_result"
    }
   ],
   "source": [
    "X_train.head()\n",
    "# X_train.values"
   ]
  },
  {
   "cell_type": "markdown",
   "metadata": {},
   "source": [
    "### Chuẩn hóa"
   ]
  },
  {
   "cell_type": "code",
   "execution_count": 200,
   "metadata": {},
   "outputs": [
    {
     "name": "stdout",
     "output_type": "stream",
     "text": [
      "[3.41922535e-01 3.61414261e+02 1.74584148e+03 3.11657225e+02\n",
      " 2.52487092e+02 4.94217546e+02 1.36610144e+03 1.77207746e-02]\n"
     ]
    }
   ],
   "source": [
    "from sklearn.preprocessing import StandardScaler\n",
    "\n",
    "# Tìm mean và std để thực hiện chuẩn hóa\n",
    "scaler = StandardScaler().fit(X_train)\n",
    "#Mean của các cột\n",
    "print (scaler.mean_)"
   ]
  },
  {
   "cell_type": "code",
   "execution_count": 201,
   "metadata": {},
   "outputs": [],
   "source": [
    "# Chuẩn hóa dữ liệu: x -> (x-mean)/std\n",
    "X_train_scaled = scaler.transform(X_train)\n",
    "X_test_scaled = scaler.transform(X_test)"
   ]
  },
  {
   "cell_type": "markdown",
   "metadata": {},
   "source": [
    "## Xây dựng mô hình"
   ]
  },
  {
   "cell_type": "code",
   "execution_count": 202,
   "metadata": {},
   "outputs": [],
   "source": [
    "from sklearn.linear_model import LinearRegression"
   ]
  },
  {
   "cell_type": "code",
   "execution_count": 203,
   "metadata": {},
   "outputs": [
    {
     "data": {
      "text/plain": [
       "LinearRegression()"
      ]
     },
     "execution_count": 203,
     "metadata": {},
     "output_type": "execute_result"
    }
   ],
   "source": [
    "climate_model1 = LinearRegression()\n",
    "climate_model1.fit(X_train_scaled, y_train)"
   ]
  },
  {
   "cell_type": "markdown",
   "metadata": {},
   "source": [
    "## Đánh giá\n",
    "rootMSE"
   ]
  },
  {
   "cell_type": "code",
   "execution_count": 204,
   "metadata": {},
   "outputs": [
    {
     "name": "stdout",
     "output_type": "stream",
     "text": [
      "RMSE on Test set: 0.095\n",
      "RMSE on Training set: 0.090\n"
     ]
    }
   ],
   "source": [
    "from sklearn.metrics import mean_squared_error\n",
    "import numpy as np\n",
    "\n",
    "# performance on TEST SET\n",
    "y_pred_test = climate_model1.predict(X_test_scaled)\n",
    "print ('RMSE on Test set: {:.3f}'.format(\n",
    "    np.sqrt(mean_squared_error(y_test, y_pred_test))\n",
    "))\n",
    "\n",
    "# performance on TRAINING SET\n",
    "y_pred_train = climate_model1.predict(X_train_scaled)\n",
    "print ('RMSE on Training set: {:.3f}'.format(\n",
    "    np.sqrt(mean_squared_error(y_train, y_pred_train))\n",
    "))\n"
   ]
  },
  {
   "cell_type": "code",
   "execution_count": 205,
   "metadata": {},
   "outputs": [
    {
     "data": {
      "text/plain": [
       "<AxesSubplot:>"
      ]
     },
     "execution_count": 205,
     "metadata": {},
     "output_type": "execute_result"
    },
    {
     "data": {
      "image/png": "[encoded data removed]",
      "text/plain": [
       "<Figure size 432x288 with 1 Axes>"
      ]
     },
     "metadata": {
      "needs_background": "light"
     },
     "output_type": "display_data"
    }
   ],
   "source": [
    "df_plot = pd.DataFrame()\n",
    "df_plot['Temp'] = y_test.values\n",
    "df_plot['Pred'] = y_pred_test\n",
    "df_plot.plot()"
   ]
  },
  {
   "cell_type": "code",
   "execution_count": 206,
   "metadata": {},
   "outputs": [
    {
     "data": {
      "text/plain": [
       "<AxesSubplot:>"
      ]
     },
     "execution_count": 206,
     "metadata": {},
     "output_type": "execute_result"
    },
    {
     "data": {
      "image/png": "[encoded data removed]",
      "text/plain": [
       "<Figure size 432x288 with 1 Axes>"
      ]
     },
     "metadata": {
      "needs_background": "light"
     },
     "output_type": "display_data"
    }
   ],
   "source": [
    "df_plot = pd.DataFrame()\n",
    "df_plot['Temp'] = y_train.values\n",
    "df_plot['Pred'] = y_pred_train\n",
    "df_plot.plot()"
   ]
  },
  {
   "cell_type": "code",
   "execution_count": null,
   "metadata": {},
   "outputs": [],
   "source": []
  }
 ],
 "metadata": {
  "kernelspec": {
   "display_name": "Python 3",
   "language": "python",
   "name": "python3"
  },
  "language_info": {
   "codemirror_mode": {
    "name": "ipython",
    "version": 3
   },
   "file_extension": ".py",
   "mimetype": "text/x-python",
   "name": "python",
   "nbconvert_exporter": "python",
   "pygments_lexer": "ipython3",
   "version": "3.8.8"
  }
 },
 "nbformat": 4,
 "nbformat_minor": 4
}
