{
 "cells": [
  {
   "cell_type": "code",
   "execution_count": 17,
   "metadata": {},
   "outputs": [],
   "source": [
    "import matplotlib.pyplot as plt\n",
    "import numpy as np\n",
    "import pandas as pd \n",
    "import math \n",
    "\n",
    "from sklearn import datasets, linear_model\n",
    "from sklearn.metrics import mean_squared_error, r2_score\n"
   ]
  },
  {
   "cell_type": "markdown",
   "metadata": {},
   "source": [
    "# Đọc dữ liệu \n",
    "\n",
    "Dữ liệu về giá nhà ở Boston được hỗ trợ bởi sklearn, đọc dữ liệu thông qua hàm `datasets.load_boston()` \n",
    "\n",
    "Xem thêm các bộ dữ liệu khác tại https://scikit-learn.org/stable/datasets/index.html#toy-datasets. \n",
    "\n",
    "Dữ liệu được chia thành các thành phần data và target như tập diabetes. Dữ liệu cũng đã được chuẩn hóa, chỉ cần gọi ra và huấn luyện"
   ]
  },
  {
   "cell_type": "code",
   "execution_count": 32,
   "metadata": {},
   "outputs": [
    {
     "name": "stdout",
     "output_type": "stream",
     "text": [
      "Số chiều dữ liệu input:  (506, 13)\n",
      "Số chiều dữ liệu target:  (506,)\n",
      "\n",
      "5 mẫu dữ liệu đầu tiên:\n",
      "input:  [[6.3200e-03 1.8000e+01 2.3100e+00 0.0000e+00 5.3800e-01 6.5750e+00\n",
      "  6.5200e+01 4.0900e+00 1.0000e+00 2.9600e+02 1.5300e+01 3.9690e+02\n",
      "  4.9800e+00]\n",
      " [2.7310e-02 0.0000e+00 7.0700e+00 0.0000e+00 4.6900e-01 6.4210e+00\n",
      "  7.8900e+01 4.9671e+00 2.0000e+00 2.4200e+02 1.7800e+01 3.9690e+02\n",
      "  9.1400e+00]\n",
      " [2.7290e-02 0.0000e+00 7.0700e+00 0.0000e+00 4.6900e-01 7.1850e+00\n",
      "  6.1100e+01 4.9671e+00 2.0000e+00 2.4200e+02 1.7800e+01 3.9283e+02\n",
      "  4.0300e+00]\n",
      " [3.2370e-02 0.0000e+00 2.1800e+00 0.0000e+00 4.5800e-01 6.9980e+00\n",
      "  4.5800e+01 6.0622e+00 3.0000e+00 2.2200e+02 1.8700e+01 3.9463e+02\n",
      "  2.9400e+00]\n",
      " [6.9050e-02 0.0000e+00 2.1800e+00 0.0000e+00 4.5800e-01 7.1470e+00\n",
      "  5.4200e+01 6.0622e+00 3.0000e+00 2.2200e+02 1.8700e+01 3.9690e+02\n",
      "  5.3300e+00]]\n",
      "target:  [24.  21.6 34.7 33.4 36.2]\n"
     ]
    }
   ],
   "source": [
    "# lay du lieu dataset - du lieu ve giá nhà\n",
    "dataset = datasets.load_boston()\n",
    "print(\"Số chiều dữ liệu input: \", dataset.data.shape)\n",
    "print(\"Số chiều dữ liệu target: \", dataset.target.shape)\n",
    "print()\n",
    "\n",
    "print(\"5 mẫu dữ liệu đầu tiên:\")\n",
    "print(\"input: \", dataset.data[:5])\n",
    "print(\"target: \",dataset.target[:5])"
   ]
  },
  {
   "cell_type": "markdown",
   "metadata": {},
   "source": [
    "**Chia dữ liệu làm 2 phần training 362 mẫu và testing 80 mẫu** "
   ]
  },
  {
   "cell_type": "code",
   "execution_count": 19,
   "metadata": {},
   "outputs": [],
   "source": [
    "# cat nho du lieu, lay 1 phan cho qua trinh thu nghiem,\n",
    "# chia train test cac mau du lieu\n",
    "# dataset_X = dataset.data[:, np.newaxis, 2]\n",
    "dataset_X = dataset.data\n",
    "\n",
    "dataset_X_train = dataset_X[:404]\n",
    "dataset_y_train = dataset.target[:404]\n",
    "\n",
    "dataset_X_test = dataset_X[405:]\n",
    "dataset_y_test = dataset.target[405:]"
   ]
  },
  {
   "cell_type": "markdown",
   "metadata": {},
   "source": [
    "# Xây dựng mô hình"
   ]
  },
  {
   "cell_type": "markdown",
   "metadata": {},
   "source": [
    "## Xây dựng mô hình bằng thư viện"
   ]
  },
  {
   "cell_type": "code",
   "execution_count": 20,
   "metadata": {},
   "outputs": [],
   "source": [
    "regr = linear_model.LinearRegression()"
   ]
  },
  {
   "cell_type": "markdown",
   "metadata": {},
   "source": [
    "## Xây dựng mô hình Linear Regression tự viết "
   ]
  },
  {
   "cell_type": "code",
   "execution_count": 21,
   "metadata": {},
   "outputs": [],
   "source": [
    "def linear_regression(dataset_X_train,dataset_y_train):\n",
    "    one = np.ones((dataset_X_train.shape[0],1))\n",
    "    Xbar = np.concatenate((one, dataset_X_train), axis = 1)\n",
    "\n",
    "    A = np.dot(Xbar.T, Xbar)\n",
    "    b = np.dot(Xbar.T, dataset_y_train)\n",
    "    w_lr = np.dot(np.linalg.pinv(A), b)\n",
    "    coef = w_lr[1:]\n",
    "    intercept = w_lr[0]\n",
    "    return coef, intercept"
   ]
  },
  {
   "cell_type": "markdown",
   "metadata": {},
   "source": [
    "## Hàm test mô hình tự viết"
   ]
  },
  {
   "cell_type": "code",
   "execution_count": 22,
   "metadata": {},
   "outputs": [],
   "source": [
    "def predict(intercept, coef, dataset_X_test):\n",
    "    y_pred_ = [intercept] + coef.dot(dataset_X_test[0].T)\n",
    "    for i in range(1, len(dataset_X_test)):\n",
    "        y_pred = intercept + coef.dot(dataset_X_test[i].T)\n",
    "        y_pred_= np.append(y_pred_,y_pred)\n",
    "    return y_pred_"
   ]
  },
  {
   "cell_type": "markdown",
   "metadata": {},
   "source": [
    "# Huấn luyện mô hình"
   ]
  },
  {
   "cell_type": "markdown",
   "metadata": {},
   "source": [
    "## Huấn luyện mô hình của thư viện"
   ]
  },
  {
   "cell_type": "code",
   "execution_count": 33,
   "metadata": {},
   "outputs": [
    {
     "name": "stdout",
     "output_type": "stream",
     "text": [
      "[w1, ... w_n] =  [-2.02135297e-01  4.41276341e-02  5.26739364e-02  1.88474315e+00\n",
      " -1.49281487e+01  4.76038673e+00  2.88734527e-03 -1.30025278e+00\n",
      "  4.61661953e-01 -1.55434673e-02 -8.11632369e-01 -1.97174433e-03\n",
      " -5.32273431e-01]\n",
      "w0 =  30.077166922901856\n"
     ]
    }
   ],
   "source": [
    "regr.fit(dataset_X_train, dataset_y_train)\n",
    "print(\"[w1, ... w_n] = \", regr.coef_)\n",
    "print(\"w0 = \", regr.intercept_)"
   ]
  },
  {
   "cell_type": "markdown",
   "metadata": {},
   "source": [
    "## Training mô hình bằng Linear regression tự viết"
   ]
  },
  {
   "cell_type": "code",
   "execution_count": 24,
   "metadata": {},
   "outputs": [
    {
     "name": "stdout",
     "output_type": "stream",
     "text": [
      "[w1, ... w_n] =  [-2.02135297e-01  4.41276341e-02  5.26739364e-02  1.88474315e+00\n",
      " -1.49281487e+01  4.76038673e+00  2.88734527e-03 -1.30025278e+00\n",
      "  4.61661953e-01 -1.55434673e-02 -8.11632369e-01 -1.97174433e-03\n",
      " -5.32273431e-01]\n",
      "w0 =  30.07716691924543\n"
     ]
    }
   ],
   "source": [
    "coef, intercept = linear_regression(dataset_X_train,dataset_y_train)\n",
    "print(\"[w1, ... w_n] = \", coef)\n",
    "print(\"w0 = \", intercept)"
   ]
  },
  {
   "cell_type": "markdown",
   "metadata": {},
   "source": [
    "# Dự đoán các mẫu dữ liệu"
   ]
  },
  {
   "cell_type": "markdown",
   "metadata": {},
   "source": [
    "## Dự đoán các mẫu dữ liệu theo mô hình của thư viện"
   ]
  },
  {
   "cell_type": "code",
   "execution_count": 25,
   "metadata": {},
   "outputs": [
    {
     "data": {
      "text/html": [
       "<div>\n",
       "<style scoped>\n",
       "    .dataframe tbody tr th:only-of-type {\n",
       "        vertical-align: middle;\n",
       "    }\n",
       "\n",
       "    .dataframe tbody tr th {\n",
       "        vertical-align: top;\n",
       "    }\n",
       "\n",
       "    .dataframe thead th {\n",
       "        text-align: right;\n",
       "    }\n",
       "</style>\n",
       "<table border=\"1\" class=\"dataframe\">\n",
       "  <thead>\n",
       "    <tr style=\"text-align: right;\">\n",
       "      <th></th>\n",
       "      <th>Thực tế</th>\n",
       "      <th>Dự đoán</th>\n",
       "      <th>Lệch</th>\n",
       "    </tr>\n",
       "  </thead>\n",
       "  <tbody>\n",
       "    <tr>\n",
       "      <th>0</th>\n",
       "      <td>5.0</td>\n",
       "      <td>3.787057</td>\n",
       "      <td>1.212943</td>\n",
       "    </tr>\n",
       "    <tr>\n",
       "      <th>1</th>\n",
       "      <td>11.9</td>\n",
       "      <td>6.640550</td>\n",
       "      <td>5.259450</td>\n",
       "    </tr>\n",
       "    <tr>\n",
       "      <th>2</th>\n",
       "      <td>27.9</td>\n",
       "      <td>21.312765</td>\n",
       "      <td>6.587235</td>\n",
       "    </tr>\n",
       "    <tr>\n",
       "      <th>3</th>\n",
       "      <td>17.2</td>\n",
       "      <td>15.412714</td>\n",
       "      <td>1.787286</td>\n",
       "    </tr>\n",
       "    <tr>\n",
       "      <th>4</th>\n",
       "      <td>27.5</td>\n",
       "      <td>23.652298</td>\n",
       "      <td>3.847702</td>\n",
       "    </tr>\n",
       "    <tr>\n",
       "      <th>...</th>\n",
       "      <td>...</td>\n",
       "      <td>...</td>\n",
       "      <td>...</td>\n",
       "    </tr>\n",
       "    <tr>\n",
       "      <th>96</th>\n",
       "      <td>22.4</td>\n",
       "      <td>23.755044</td>\n",
       "      <td>1.355044</td>\n",
       "    </tr>\n",
       "    <tr>\n",
       "      <th>97</th>\n",
       "      <td>20.6</td>\n",
       "      <td>22.081673</td>\n",
       "      <td>1.481673</td>\n",
       "    </tr>\n",
       "    <tr>\n",
       "      <th>98</th>\n",
       "      <td>23.9</td>\n",
       "      <td>28.181773</td>\n",
       "      <td>4.281773</td>\n",
       "    </tr>\n",
       "    <tr>\n",
       "      <th>99</th>\n",
       "      <td>22.0</td>\n",
       "      <td>26.572420</td>\n",
       "      <td>4.572420</td>\n",
       "    </tr>\n",
       "    <tr>\n",
       "      <th>100</th>\n",
       "      <td>11.9</td>\n",
       "      <td>22.020566</td>\n",
       "      <td>10.120566</td>\n",
       "    </tr>\n",
       "  </tbody>\n",
       "</table>\n",
       "<p>101 rows × 3 columns</p>\n",
       "</div>"
      ],
      "text/plain": [
       "     Thực tế    Dự đoán       Lệch\n",
       "0        5.0   3.787057   1.212943\n",
       "1       11.9   6.640550   5.259450\n",
       "2       27.9  21.312765   6.587235\n",
       "3       17.2  15.412714   1.787286\n",
       "4       27.5  23.652298   3.847702\n",
       "..       ...        ...        ...\n",
       "96      22.4  23.755044   1.355044\n",
       "97      20.6  22.081673   1.481673\n",
       "98      23.9  28.181773   4.281773\n",
       "99      22.0  26.572420   4.572420\n",
       "100     11.9  22.020566  10.120566\n",
       "\n",
       "[101 rows x 3 columns]"
      ]
     },
     "execution_count": 25,
     "metadata": {},
     "output_type": "execute_result"
    }
   ],
   "source": [
    "dataset_y_pred_lib = regr.predict(dataset_X_test)\n",
    "pd.DataFrame(data=np.array([dataset_y_test, dataset_y_pred_lib,\n",
    "                            abs(dataset_y_test - dataset_y_pred_lib)]).T,\n",
    "             columns=[\"Thực tế\", \"Dự đoán\", \"Lệch\"])  "
   ]
  },
  {
   "cell_type": "markdown",
   "metadata": {},
   "source": [
    "## Dự đoán các mẫu dữ liệu tính theo linear regression tự viết"
   ]
  },
  {
   "cell_type": "code",
   "execution_count": 26,
   "metadata": {},
   "outputs": [
    {
     "data": {
      "text/html": [
       "<div>\n",
       "<style scoped>\n",
       "    .dataframe tbody tr th:only-of-type {\n",
       "        vertical-align: middle;\n",
       "    }\n",
       "\n",
       "    .dataframe tbody tr th {\n",
       "        vertical-align: top;\n",
       "    }\n",
       "\n",
       "    .dataframe thead th {\n",
       "        text-align: right;\n",
       "    }\n",
       "</style>\n",
       "<table border=\"1\" class=\"dataframe\">\n",
       "  <thead>\n",
       "    <tr style=\"text-align: right;\">\n",
       "      <th></th>\n",
       "      <th>Thực tế</th>\n",
       "      <th>Dự đoán</th>\n",
       "      <th>Lệch</th>\n",
       "    </tr>\n",
       "  </thead>\n",
       "  <tbody>\n",
       "    <tr>\n",
       "      <th>0</th>\n",
       "      <td>5.0</td>\n",
       "      <td>3.787057</td>\n",
       "      <td>1.212943</td>\n",
       "    </tr>\n",
       "    <tr>\n",
       "      <th>1</th>\n",
       "      <td>11.9</td>\n",
       "      <td>6.640550</td>\n",
       "      <td>5.259450</td>\n",
       "    </tr>\n",
       "    <tr>\n",
       "      <th>2</th>\n",
       "      <td>27.9</td>\n",
       "      <td>21.312765</td>\n",
       "      <td>6.587235</td>\n",
       "    </tr>\n",
       "    <tr>\n",
       "      <th>3</th>\n",
       "      <td>17.2</td>\n",
       "      <td>15.412714</td>\n",
       "      <td>1.787286</td>\n",
       "    </tr>\n",
       "    <tr>\n",
       "      <th>4</th>\n",
       "      <td>27.5</td>\n",
       "      <td>23.652298</td>\n",
       "      <td>3.847702</td>\n",
       "    </tr>\n",
       "    <tr>\n",
       "      <th>...</th>\n",
       "      <td>...</td>\n",
       "      <td>...</td>\n",
       "      <td>...</td>\n",
       "    </tr>\n",
       "    <tr>\n",
       "      <th>96</th>\n",
       "      <td>22.4</td>\n",
       "      <td>23.755044</td>\n",
       "      <td>1.355044</td>\n",
       "    </tr>\n",
       "    <tr>\n",
       "      <th>97</th>\n",
       "      <td>20.6</td>\n",
       "      <td>22.081673</td>\n",
       "      <td>1.481673</td>\n",
       "    </tr>\n",
       "    <tr>\n",
       "      <th>98</th>\n",
       "      <td>23.9</td>\n",
       "      <td>28.181773</td>\n",
       "      <td>4.281773</td>\n",
       "    </tr>\n",
       "    <tr>\n",
       "      <th>99</th>\n",
       "      <td>22.0</td>\n",
       "      <td>26.572420</td>\n",
       "      <td>4.572420</td>\n",
       "    </tr>\n",
       "    <tr>\n",
       "      <th>100</th>\n",
       "      <td>11.9</td>\n",
       "      <td>22.020566</td>\n",
       "      <td>10.120566</td>\n",
       "    </tr>\n",
       "  </tbody>\n",
       "</table>\n",
       "<p>101 rows × 3 columns</p>\n",
       "</div>"
      ],
      "text/plain": [
       "     Thực tế    Dự đoán       Lệch\n",
       "0        5.0   3.787057   1.212943\n",
       "1       11.9   6.640550   5.259450\n",
       "2       27.9  21.312765   6.587235\n",
       "3       17.2  15.412714   1.787286\n",
       "4       27.5  23.652298   3.847702\n",
       "..       ...        ...        ...\n",
       "96      22.4  23.755044   1.355044\n",
       "97      20.6  22.081673   1.481673\n",
       "98      23.9  28.181773   4.281773\n",
       "99      22.0  26.572420   4.572420\n",
       "100     11.9  22.020566  10.120566\n",
       "\n",
       "[101 rows x 3 columns]"
      ]
     },
     "execution_count": 26,
     "metadata": {},
     "output_type": "execute_result"
    }
   ],
   "source": [
    "dataset_y_pred = predict(intercept, coef, dataset_X_test)\n",
    "pd.DataFrame(data=np.array([dataset_y_test, dataset_y_pred,\n",
    "                            abs(dataset_y_test - dataset_y_pred)]).T,\n",
    "             columns=[\"Thực tế\", \"Dự đoán\", \"Lệch\"]) "
   ]
  },
  {
   "cell_type": "markdown",
   "metadata": {},
   "source": [
    "## Đánh giá mô hình linear regression của thư viện"
   ]
  },
  {
   "cell_type": "code",
   "execution_count": 27,
   "metadata": {},
   "outputs": [
    {
     "name": "stdout",
     "output_type": "stream",
     "text": [
      "lỗi : 5.749521870254025\n"
     ]
    }
   ],
   "source": [
    "loss = math.sqrt(mean_squared_error(dataset_y_test, dataset_y_pred_lib))\n",
    "print(\"lỗi :\",loss)"
   ]
  },
  {
   "cell_type": "markdown",
   "metadata": {},
   "source": [
    "## Đánh giá mô hình linear regression tự viết"
   ]
  },
  {
   "cell_type": "code",
   "execution_count": 28,
   "metadata": {},
   "outputs": [
    {
     "name": "stdout",
     "output_type": "stream",
     "text": [
      "lỗi : 5.749521870168214\n"
     ]
    }
   ],
   "source": [
    "loss = math.sqrt(mean_squared_error(dataset_y_test, dataset_y_pred))\n",
    "print(\"lỗi :\",loss)"
   ]
  },
  {
   "cell_type": "code",
   "execution_count": null,
   "metadata": {},
   "outputs": [],
   "source": []
  }
 ],
 "metadata": {
  "kernelspec": {
   "display_name": "Python 3",
   "language": "python",
   "name": "python3"
  },
  "language_info": {
   "codemirror_mode": {
    "name": "ipython",
    "version": 3
   },
   "file_extension": ".py",
   "mimetype": "text/x-python",
   "name": "python",
   "nbconvert_exporter": "python",
   "pygments_lexer": "ipython3",
   "version": "3.8.8"
  }
 },
 "nbformat": 4,
 "nbformat_minor": 4
}
